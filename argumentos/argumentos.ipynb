{
 "cells": [
  {
   "cell_type": "markdown",
   "metadata": {},
   "source": [
    "# Argumentos em Python"
   ]
  },
  {
   "cell_type": "markdown",
   "metadata": {},
   "source": [
    "Em Python tem várias formas de passar argumentos para funções"
   ]
  },
  {
   "cell_type": "markdown",
   "metadata": {},
   "source": [
    "## Argumentos Posicionais\n",
    "\n",
    "São aqueles que você passa na ordem exata que a função espera"
   ]
  },
  {
   "cell_type": "code",
   "execution_count": 1,
   "metadata": {},
   "outputs": [
    {
     "name": "stdout",
     "output_type": "stream",
     "text": [
      "5\n"
     ]
    }
   ],
   "source": [
    "def soma(a, b):\n",
    "    return a + b\n",
    "\n",
    "print(soma(2, 3))  "
   ]
  },
  {
   "cell_type": "markdown",
   "metadata": {},
   "source": [
    "## Argumentos Nomeados (Keyword Arguments)\n",
    "Pode especificar os argumentos pelo nome, não precisando seguir a ordem"
   ]
  },
  {
   "cell_type": "code",
   "execution_count": 3,
   "metadata": {},
   "outputs": [
    {
     "name": "stdout",
     "output_type": "stream",
     "text": [
      "Meu nome é Beatriz e eu tenho 20 anos.\n"
     ]
    }
   ],
   "source": [
    "def apresentar(nome, idade):\n",
    "    print(f\"Meu nome é {nome} e eu tenho {idade} anos.\")\n",
    "\n",
    "apresentar(idade=20, nome=\"Beatriz\")  "
   ]
  },
  {
   "cell_type": "markdown",
   "metadata": {},
   "source": [
    "## Argumentos com Valores Padrão\n",
    "\n",
    "Se um argumento tiver um valor padrão, ele se torna opcional"
   ]
  },
  {
   "cell_type": "code",
   "execution_count": 5,
   "metadata": {},
   "outputs": [
    {
     "name": "stdout",
     "output_type": "stream",
     "text": [
      "Olá, Amigo!\n",
      "Olá, Beatriz!\n"
     ]
    }
   ],
   "source": [
    "def saudacao(nome=\"Amigo\"):\n",
    "    print(f\"Olá, {nome}!\")\n",
    "\n",
    "saudacao()\n",
    "saudacao(\"Beatriz\")"
   ]
  },
  {
   "cell_type": "markdown",
   "metadata": {},
   "source": [
    "## É possível passar muitos argumentos utilizando *args (cria uma tupla)"
   ]
  },
  {
   "cell_type": "code",
   "execution_count": 6,
   "metadata": {},
   "outputs": [
    {
     "name": "stdout",
     "output_type": "stream",
     "text": [
      "15\n"
     ]
    }
   ],
   "source": [
    "def soma_tudo(*numeros):\n",
    "    return sum(numeros)\n",
    "\n",
    "print(soma_tudo(1, 2, 3, 4, 5))"
   ]
  },
  {
   "cell_type": "markdown",
   "metadata": {},
   "source": [
    "## E também é possível passar vários argumentos com nomes diferentes com **kwargs (cria um dicionário)"
   ]
  },
  {
   "cell_type": "code",
   "execution_count": 7,
   "metadata": {},
   "outputs": [
    {
     "name": "stdout",
     "output_type": "stream",
     "text": [
      "nome: Beatriz\n",
      "idade: 20\n",
      "curso: Ciência da Computação\n"
     ]
    }
   ],
   "source": [
    "def mostrar_info(**info):\n",
    "    for chave, valor in info.items():\n",
    "        print(f\"{chave}: {valor}\")\n",
    "\n",
    "mostrar_info(nome=\"Beatriz\", idade=20, curso=\"Ciência da Computação\")"
   ]
  },
  {
   "cell_type": "markdown",
   "metadata": {},
   "source": [
    "## Ordem correta dos argumentos em funções\n",
    "\n",
    "1️. Argumentos posicionais normais\n",
    "\n",
    "2️. Argumentos nomeados (com valores padrão)\n",
    "\n",
    "3️. *args\n",
    "\n",
    "4️. Argumentos nomeados obrigatórios (nome=value)\n",
    "\n",
    "5️. **kwargs"
   ]
  },
  {
   "cell_type": "code",
   "execution_count": 8,
   "metadata": {},
   "outputs": [
    {
     "name": "stdout",
     "output_type": "stream",
     "text": [
      "1 4 (5, 6, 7) 10 {'d': 20, 'e': 30}\n"
     ]
    }
   ],
   "source": [
    "def exemplo(a, b=2, *args, c=3, **kwargs):\n",
    "    print(a, b, args, c, kwargs)\n",
    "\n",
    "exemplo(1, 4, 5, 6, 7, c=10, d=20, e=30)"
   ]
  }
 ],
 "metadata": {
  "kernelspec": {
   "display_name": "Python 3",
   "language": "python",
   "name": "python3"
  },
  "language_info": {
   "codemirror_mode": {
    "name": "ipython",
    "version": 3
   },
   "file_extension": ".py",
   "mimetype": "text/x-python",
   "name": "python",
   "nbconvert_exporter": "python",
   "pygments_lexer": "ipython3",
   "version": "3.13.1"
  }
 },
 "nbformat": 4,
 "nbformat_minor": 2
}
